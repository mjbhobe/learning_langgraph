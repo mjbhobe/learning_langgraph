{
 "cells": [
  {
   "cell_type": "code",
   "execution_count": 1,
   "id": "6efd76bb",
   "metadata": {},
   "outputs": [],
   "source": [
    "from typing import TypedDict, Literal\n",
    "from langgraph.graph import StateGraph, START, END\n",
    "from IPython.display import Image, display\n",
    "from rich.console import Console"
   ]
  },
  {
   "cell_type": "code",
   "execution_count": 2,
   "id": "b81c2777",
   "metadata": {},
   "outputs": [],
   "source": [
    "console = Console()"
   ]
  },
  {
   "cell_type": "code",
   "execution_count": 3,
   "id": "4a7bb846",
   "metadata": {},
   "outputs": [],
   "source": [
    "# define my graph state\n",
    "class PortfolioState(TypedDict):\n",
    "    amount_usd: float\n",
    "    interest_rate: float\n",
    "    total_usd: float\n",
    "    usd_to_inr: float\n",
    "    usd_to_eur: float\n",
    "    target_currency: Literal[\"inr\", \"eur\"]\n",
    "    total: float"
   ]
  },
  {
   "cell_type": "code",
   "execution_count": 4,
   "id": "4ff8b859",
   "metadata": {},
   "outputs": [],
   "source": [
    "pf_usd_to_inr = PortfolioState(\n",
    "    amount_usd=1000.0,\n",
    "    interest_rate=1.08,\n",
    "    total_usd=0.0,\n",
    "    usd_to_inr=85.64,\n",
    "    target_currency=\"inr\",\n",
    "    total=0.0,\n",
    ")"
   ]
  },
  {
   "cell_type": "code",
   "execution_count": 5,
   "id": "11ee905e",
   "metadata": {},
   "outputs": [],
   "source": [
    "pf_usd_to_eur = PortfolioState(\n",
    "    amount_usd=1000.0,\n",
    "    interest_rate=1.08,\n",
    "    total_usd=0.0,\n",
    "    usd_to_eur=0.85,\n",
    "    target_currency=\"eur\",\n",
    "    total=0.0,\n",
    ")"
   ]
  },
  {
   "cell_type": "code",
   "execution_count": 6,
   "id": "02b1f22f",
   "metadata": {},
   "outputs": [],
   "source": [
    "# node to calculate interest on usd investment\n",
    "def calc_usd_with_interest(state: PortfolioState) -> PortfolioState:\n",
    "    state[\"total_usd\"] = state[\"amount_usd\"] * state[\"interest_rate\"]\n",
    "    console.print(\n",
    "        f\"[green]Amount USD:[/green] {state['amount_usd']},\\n[green]Interest Rate:[/green] {state['interest_rate']},\\n [green]Total USD:[/green] {state['total_usd']}\"\n",
    "    )\n",
    "    return state"
   ]
  },
  {
   "cell_type": "code",
   "execution_count": 7,
   "id": "06e06836",
   "metadata": {},
   "outputs": [],
   "source": [
    "def covert_usd_to_inr(state: PortfolioState) -> PortfolioState:\n",
    "    state[\"total\"] = state[\"total_usd\"] * state[\"usd_to_inr\"]\n",
    "    console.print(\n",
    "        f\"Amount USD: {state['total_usd']:.3f}, \\n Conv Rate: {state['usd_to_inr']:.3f}, \\n Total in INR: {state['total']:.2f}\"\n",
    "    )\n",
    "    return state"
   ]
  },
  {
   "cell_type": "code",
   "execution_count": 8,
   "id": "b9c298c8",
   "metadata": {},
   "outputs": [],
   "source": [
    "def covert_usd_to_eur(state: PortfolioState) -> PortfolioState:\n",
    "    state[\"total\"] = state[\"total_usd\"] * state[\"usd_to_eur\"]\n",
    "    console.print(\n",
    "        f\"Amount USD: {state['total_usd']:.3f}, \\n Conv Rate: {state['usd_to_eur']:.3f}, \\n Total in EUR: {state['total']:.2f}\"\n",
    "    )\n",
    "    return state"
   ]
  },
  {
   "cell_type": "code",
   "execution_count": 9,
   "id": "3c46825a",
   "metadata": {},
   "outputs": [],
   "source": [
    "def choose_conversion(state: PortfolioState) -> str:\n",
    "    return state[\"target_currency\"]"
   ]
  },
  {
   "cell_type": "code",
   "execution_count": 10,
   "id": "ef4a6097",
   "metadata": {},
   "outputs": [],
   "source": [
    "# build the graph\n",
    "\n",
    "builder = StateGraph(PortfolioState)\n",
    "builder.add_node(\"calc_usd_with_interest\", calc_usd_with_interest)\n",
    "builder.add_node(\"convert_usd_to_inr\", covert_usd_to_inr)\n",
    "builder.add_node(\"convert_usd_to_eur\", covert_usd_to_eur)\n",
    "\n",
    "# add edges\n",
    "builder.add_edge(START, \"calc_usd_with_interest\")\n",
    "builder.add_conditional_edges(\n",
    "    \"calc_usd_with_interest\",\n",
    "    choose_conversion,\n",
    "    {\n",
    "        \"inr\": \"convert_usd_to_inr\",\n",
    "        \"eur\": \"convert_usd_to_eur\",\n",
    "    },\n",
    ")\n",
    "builder.add_edge([\"convert_usd_to_inr\", \"convert_usd_to_eur\"], END)\n",
    "\n",
    "graph = builder.compile()"
   ]
  },
  {
   "cell_type": "code",
   "execution_count": 11,
   "id": "3c1735a8",
   "metadata": {},
   "outputs": [
    {
     "data": {
      "image/png": "[encoded data removed]",
      "text/plain": [
       "<IPython.core.display.Image object>"
      ]
     },
     "metadata": {},
     "output_type": "display_data"
    }
   ],
   "source": [
    "# display the graph\n",
    "from IPython.display import Image, display\n",
    "\n",
    "display(Image(graph.get_graph().draw_mermaid_png()))"
   ]
  },
  {
   "cell_type": "code",
   "execution_count": 12,
   "id": "eac9637d",
   "metadata": {},
   "outputs": [
    {
     "data": {
      "text/html": [
       "<pre style=\"white-space:pre;overflow-x:auto;line-height:normal;font-family:Menlo,'DejaVu Sans Mono',consolas,'Courier New',monospace\"><span style=\"color: #000080; text-decoration-color: #000080\">Converting USD to INR</span>\n",
       "</pre>\n"
      ],
      "text/plain": [
       "\u001b[34mConverting USD to INR\u001b[0m\n"
      ]
     },
     "metadata": {},
     "output_type": "display_data"
    },
    {
     "data": {
      "text/html": [
       "<pre style=\"white-space:pre;overflow-x:auto;line-height:normal;font-family:Menlo,'DejaVu Sans Mono',consolas,'Courier New',monospace\"><span style=\"color: #008000; text-decoration-color: #008000\">Amount USD:</span> <span style=\"color: #008080; text-decoration-color: #008080; font-weight: bold\">1000.0</span>,\n",
       "<span style=\"color: #008000; text-decoration-color: #008000\">Interest Rate:</span> <span style=\"color: #008080; text-decoration-color: #008080; font-weight: bold\">1.08</span>,\n",
       " <span style=\"color: #008000; text-decoration-color: #008000\">Total USD:</span> <span style=\"color: #008080; text-decoration-color: #008080; font-weight: bold\">1080.0</span>\n",
       "</pre>\n"
      ],
      "text/plain": [
       "\u001b[32mAmount USD:\u001b[0m \u001b[1;36m1000.0\u001b[0m,\n",
       "\u001b[32mInterest Rate:\u001b[0m \u001b[1;36m1.08\u001b[0m,\n",
       " \u001b[32mTotal USD:\u001b[0m \u001b[1;36m1080.0\u001b[0m\n"
      ]
     },
     "metadata": {},
     "output_type": "display_data"
    },
    {
     "data": {
      "text/html": [
       "<pre style=\"white-space:pre;overflow-x:auto;line-height:normal;font-family:Menlo,'DejaVu Sans Mono',consolas,'Courier New',monospace\">Amount USD: <span style=\"color: #008080; text-decoration-color: #008080; font-weight: bold\">1080.000</span>, \n",
       " Conv Rate: <span style=\"color: #008080; text-decoration-color: #008080; font-weight: bold\">85.640</span>, \n",
       " Total in INR: <span style=\"color: #008080; text-decoration-color: #008080; font-weight: bold\">92491.20</span>\n",
       "</pre>\n"
      ],
      "text/plain": [
       "Amount USD: \u001b[1;36m1080.000\u001b[0m, \n",
       " Conv Rate: \u001b[1;36m85.640\u001b[0m, \n",
       " Total in INR: \u001b[1;36m92491.20\u001b[0m\n"
      ]
     },
     "metadata": {},
     "output_type": "display_data"
    },
    {
     "data": {
      "text/html": [
       "<pre style=\"white-space:pre;overflow-x:auto;line-height:normal;font-family:Menlo,'DejaVu Sans Mono',consolas,'Courier New',monospace\"><span style=\"font-weight: bold\">{</span>\n",
       "    <span style=\"color: #008000; text-decoration-color: #008000\">'amount_usd'</span>: <span style=\"color: #008080; text-decoration-color: #008080; font-weight: bold\">1000.0</span>,\n",
       "    <span style=\"color: #008000; text-decoration-color: #008000\">'interest_rate'</span>: <span style=\"color: #008080; text-decoration-color: #008080; font-weight: bold\">1.08</span>,\n",
       "    <span style=\"color: #008000; text-decoration-color: #008000\">'total_usd'</span>: <span style=\"color: #008080; text-decoration-color: #008080; font-weight: bold\">1080.0</span>,\n",
       "    <span style=\"color: #008000; text-decoration-color: #008000\">'usd_to_inr'</span>: <span style=\"color: #008080; text-decoration-color: #008080; font-weight: bold\">85.64</span>,\n",
       "    <span style=\"color: #008000; text-decoration-color: #008000\">'target_currency'</span>: <span style=\"color: #008000; text-decoration-color: #008000\">'inr'</span>,\n",
       "    <span style=\"color: #008000; text-decoration-color: #008000\">'total'</span>: <span style=\"color: #008080; text-decoration-color: #008080; font-weight: bold\">92491.2</span>\n",
       "<span style=\"font-weight: bold\">}</span>\n",
       "</pre>\n"
      ],
      "text/plain": [
       "\u001b[1m{\u001b[0m\n",
       "    \u001b[32m'amount_usd'\u001b[0m: \u001b[1;36m1000.0\u001b[0m,\n",
       "    \u001b[32m'interest_rate'\u001b[0m: \u001b[1;36m1.08\u001b[0m,\n",
       "    \u001b[32m'total_usd'\u001b[0m: \u001b[1;36m1080.0\u001b[0m,\n",
       "    \u001b[32m'usd_to_inr'\u001b[0m: \u001b[1;36m85.64\u001b[0m,\n",
       "    \u001b[32m'target_currency'\u001b[0m: \u001b[32m'inr'\u001b[0m,\n",
       "    \u001b[32m'total'\u001b[0m: \u001b[1;36m92491.2\u001b[0m\n",
       "\u001b[1m}\u001b[0m\n"
      ]
     },
     "metadata": {},
     "output_type": "display_data"
    },
    {
     "data": {
      "text/html": [
       "<pre style=\"white-space:pre;overflow-x:auto;line-height:normal;font-family:Menlo,'DejaVu Sans Mono',consolas,'Courier New',monospace\"><span style=\"color: #808000; text-decoration-color: #808000\">Converting USD to EUR</span>\n",
       "</pre>\n"
      ],
      "text/plain": [
       "\u001b[33mConverting USD to EUR\u001b[0m\n"
      ]
     },
     "metadata": {},
     "output_type": "display_data"
    },
    {
     "data": {
      "text/html": [
       "<pre style=\"white-space:pre;overflow-x:auto;line-height:normal;font-family:Menlo,'DejaVu Sans Mono',consolas,'Courier New',monospace\"><span style=\"color: #008000; text-decoration-color: #008000\">Amount USD:</span> <span style=\"color: #008080; text-decoration-color: #008080; font-weight: bold\">1000.0</span>,\n",
       "<span style=\"color: #008000; text-decoration-color: #008000\">Interest Rate:</span> <span style=\"color: #008080; text-decoration-color: #008080; font-weight: bold\">1.08</span>,\n",
       " <span style=\"color: #008000; text-decoration-color: #008000\">Total USD:</span> <span style=\"color: #008080; text-decoration-color: #008080; font-weight: bold\">1080.0</span>\n",
       "</pre>\n"
      ],
      "text/plain": [
       "\u001b[32mAmount USD:\u001b[0m \u001b[1;36m1000.0\u001b[0m,\n",
       "\u001b[32mInterest Rate:\u001b[0m \u001b[1;36m1.08\u001b[0m,\n",
       " \u001b[32mTotal USD:\u001b[0m \u001b[1;36m1080.0\u001b[0m\n"
      ]
     },
     "metadata": {},
     "output_type": "display_data"
    },
    {
     "data": {
      "text/html": [
       "<pre style=\"white-space:pre;overflow-x:auto;line-height:normal;font-family:Menlo,'DejaVu Sans Mono',consolas,'Courier New',monospace\">Amount USD: <span style=\"color: #008080; text-decoration-color: #008080; font-weight: bold\">1080.000</span>, \n",
       " Conv Rate: <span style=\"color: #008080; text-decoration-color: #008080; font-weight: bold\">0.850</span>, \n",
       " Total in EUR: <span style=\"color: #008080; text-decoration-color: #008080; font-weight: bold\">918.00</span>\n",
       "</pre>\n"
      ],
      "text/plain": [
       "Amount USD: \u001b[1;36m1080.000\u001b[0m, \n",
       " Conv Rate: \u001b[1;36m0.850\u001b[0m, \n",
       " Total in EUR: \u001b[1;36m918.00\u001b[0m\n"
      ]
     },
     "metadata": {},
     "output_type": "display_data"
    },
    {
     "data": {
      "text/html": [
       "<pre style=\"white-space:pre;overflow-x:auto;line-height:normal;font-family:Menlo,'DejaVu Sans Mono',consolas,'Courier New',monospace\"><span style=\"font-weight: bold\">{</span>\n",
       "    <span style=\"color: #008000; text-decoration-color: #008000\">'amount_usd'</span>: <span style=\"color: #008080; text-decoration-color: #008080; font-weight: bold\">1000.0</span>,\n",
       "    <span style=\"color: #008000; text-decoration-color: #008000\">'interest_rate'</span>: <span style=\"color: #008080; text-decoration-color: #008080; font-weight: bold\">1.08</span>,\n",
       "    <span style=\"color: #008000; text-decoration-color: #008000\">'total_usd'</span>: <span style=\"color: #008080; text-decoration-color: #008080; font-weight: bold\">1080.0</span>,\n",
       "    <span style=\"color: #008000; text-decoration-color: #008000\">'usd_to_eur'</span>: <span style=\"color: #008080; text-decoration-color: #008080; font-weight: bold\">0.85</span>,\n",
       "    <span style=\"color: #008000; text-decoration-color: #008000\">'target_currency'</span>: <span style=\"color: #008000; text-decoration-color: #008000\">'eur'</span>,\n",
       "    <span style=\"color: #008000; text-decoration-color: #008000\">'total'</span>: <span style=\"color: #008080; text-decoration-color: #008080; font-weight: bold\">918.0</span>\n",
       "<span style=\"font-weight: bold\">}</span>\n",
       "</pre>\n"
      ],
      "text/plain": [
       "\u001b[1m{\u001b[0m\n",
       "    \u001b[32m'amount_usd'\u001b[0m: \u001b[1;36m1000.0\u001b[0m,\n",
       "    \u001b[32m'interest_rate'\u001b[0m: \u001b[1;36m1.08\u001b[0m,\n",
       "    \u001b[32m'total_usd'\u001b[0m: \u001b[1;36m1080.0\u001b[0m,\n",
       "    \u001b[32m'usd_to_eur'\u001b[0m: \u001b[1;36m0.85\u001b[0m,\n",
       "    \u001b[32m'target_currency'\u001b[0m: \u001b[32m'eur'\u001b[0m,\n",
       "    \u001b[32m'total'\u001b[0m: \u001b[1;36m918.0\u001b[0m\n",
       "\u001b[1m}\u001b[0m\n"
      ]
     },
     "metadata": {},
     "output_type": "display_data"
    }
   ],
   "source": [
    "# convert USD to INR\n",
    "console.print(\"[blue]Converting USD to INR[/blue]\")\n",
    "result = graph.invoke(pf_usd_to_inr)\n",
    "console.print(result)\n",
    "\n",
    "console.print(\"[yellow]Converting USD to EUR[/yellow]\")\n",
    "result = graph.invoke(pf_usd_to_eur)\n",
    "console.print(result)"
   ]
  },
  {
   "cell_type": "code",
   "execution_count": null,
   "id": "7e698036",
   "metadata": {},
   "outputs": [],
   "source": []
  }
 ],
 "metadata": {
  "kernelspec": {
   "display_name": "langgraph-learning",
   "language": "python",
   "name": "python3"
  },
  "language_info": {
   "codemirror_mode": {
    "name": "ipython",
    "version": 3
   },
   "file_extension": ".py",
   "mimetype": "text/x-python",
   "name": "python",
   "nbconvert_exporter": "python",
   "pygments_lexer": "ipython3",
   "version": "3.12.7"
  }
 },
 "nbformat": 4,
 "nbformat_minor": 5
}
