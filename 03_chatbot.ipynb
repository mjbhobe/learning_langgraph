{
 "cells": [
  {
   "cell_type": "code",
   "id": "cc130a06",
   "metadata": {
    "ExecuteTime": {
     "end_time": "2025-07-03T05:48:50.980562Z",
     "start_time": "2025-07-03T05:48:49.617248Z"
    }
   },
   "source": [
    "from typing import TypedDict, Annotated\n",
    "\n",
    "from dotenv import load_dotenv\n",
    "from langchain.chat_models import init_chat_model\n",
    "from langgraph.graph import StateGraph, START, END\n",
    "from langgraph.graph.message import add_messages\n",
    "from rich.console import Console"
   ],
   "outputs": [],
   "execution_count": 1
  },
  {
   "cell_type": "code",
   "id": "327a9e5a",
   "metadata": {
    "ExecuteTime": {
     "end_time": "2025-07-03T05:48:51.027385Z",
     "start_time": "2025-07-03T05:48:51.017221Z"
    }
   },
   "source": [
    "load_dotenv()\n",
    "console = Console()"
   ],
   "outputs": [],
   "execution_count": 2
  },
  {
   "cell_type": "code",
   "id": "8c34ab01",
   "metadata": {
    "ExecuteTime": {
     "end_time": "2025-07-03T05:49:05.435616Z",
     "start_time": "2025-07-03T05:48:51.686697Z"
    }
   },
   "source": [
    "llm = init_chat_model(\"google_genai:gemini-2.5-flash\", temperature=0.0)\n",
    "\n",
    "# invoke the LLM\n",
    "response = llm.invoke(\n",
    "    \"Name 5 freedom fighters, including male and female, from Maharashtra India (return a comma separated list of names only!)\"\n",
    ")\n",
    "console.print(response)"
   ],
   "outputs": [
    {
     "name": "stderr",
     "output_type": "stream",
     "text": [
      "/home/mjbhobe/code/git-projects/learning_langgraph/.venv/lib/python3.12/site-packages/tqdm/auto.py:21: TqdmWarning: IProgress not found. Please update jupyter and ipywidgets. See https://ipywidgets.readthedocs.io/en/stable/user_install.html\n",
      "  from .autonotebook import tqdm as notebook_tqdm\n"
     ]
    },
    {
     "data": {
      "text/plain": [
       "\u001B[1;35mAIMessage\u001B[0m\u001B[1m(\u001B[0m\n",
       "    \u001B[33mcontent\u001B[0m=\u001B[32m'Bal Gangadhar Tilak, Gopal Krishna Gokhale, Shivram Hari Rajguru, Savitribai Phule, Godavari \u001B[0m\n",
       "\u001B[32mParulekar'\u001B[0m,\n",
       "    \u001B[33madditional_kwargs\u001B[0m=\u001B[1m{\u001B[0m\u001B[1m}\u001B[0m,\n",
       "    \u001B[33mresponse_metadata\u001B[0m=\u001B[1m{\u001B[0m\n",
       "        \u001B[32m'prompt_feedback'\u001B[0m: \u001B[1m{\u001B[0m\u001B[32m'block_reason'\u001B[0m: \u001B[1;36m0\u001B[0m, \u001B[32m'safety_ratings'\u001B[0m: \u001B[1m[\u001B[0m\u001B[1m]\u001B[0m\u001B[1m}\u001B[0m,\n",
       "        \u001B[32m'finish_reason'\u001B[0m: \u001B[32m'STOP'\u001B[0m,\n",
       "        \u001B[32m'safety_ratings'\u001B[0m: \u001B[1m[\u001B[0m\u001B[1m]\u001B[0m\n",
       "    \u001B[1m}\u001B[0m,\n",
       "    \u001B[33mid\u001B[0m=\u001B[32m'run--506a9732-d52d-40a2-a093-57329a30880e-0'\u001B[0m,\n",
       "    \u001B[33musage_metadata\u001B[0m=\u001B[1m{\u001B[0m\n",
       "        \u001B[32m'input_tokens'\u001B[0m: \u001B[1;36m25\u001B[0m,\n",
       "        \u001B[32m'output_tokens'\u001B[0m: \u001B[1;36m30\u001B[0m,\n",
       "        \u001B[32m'total_tokens'\u001B[0m: \u001B[1;36m1901\u001B[0m,\n",
       "        \u001B[32m'input_token_details'\u001B[0m: \u001B[1m{\u001B[0m\u001B[32m'cache_read'\u001B[0m: \u001B[1;36m0\u001B[0m\u001B[1m}\u001B[0m\n",
       "    \u001B[1m}\u001B[0m\n",
       "\u001B[1m)\u001B[0m\n"
      ],
      "text/html": [
       "<pre style=\"white-space:pre;overflow-x:auto;line-height:normal;font-family:Menlo,'DejaVu Sans Mono',consolas,'Courier New',monospace\"><span style=\"color: #800080; text-decoration-color: #800080; font-weight: bold\">AIMessage</span><span style=\"font-weight: bold\">(</span>\n",
       "    <span style=\"color: #808000; text-decoration-color: #808000\">content</span>=<span style=\"color: #008000; text-decoration-color: #008000\">'Bal Gangadhar Tilak, Gopal Krishna Gokhale, Shivram Hari Rajguru, Savitribai Phule, Godavari </span>\n",
       "<span style=\"color: #008000; text-decoration-color: #008000\">Parulekar'</span>,\n",
       "    <span style=\"color: #808000; text-decoration-color: #808000\">additional_kwargs</span>=<span style=\"font-weight: bold\">{}</span>,\n",
       "    <span style=\"color: #808000; text-decoration-color: #808000\">response_metadata</span>=<span style=\"font-weight: bold\">{</span>\n",
       "        <span style=\"color: #008000; text-decoration-color: #008000\">'prompt_feedback'</span>: <span style=\"font-weight: bold\">{</span><span style=\"color: #008000; text-decoration-color: #008000\">'block_reason'</span>: <span style=\"color: #008080; text-decoration-color: #008080; font-weight: bold\">0</span>, <span style=\"color: #008000; text-decoration-color: #008000\">'safety_ratings'</span>: <span style=\"font-weight: bold\">[]}</span>,\n",
       "        <span style=\"color: #008000; text-decoration-color: #008000\">'finish_reason'</span>: <span style=\"color: #008000; text-decoration-color: #008000\">'STOP'</span>,\n",
       "        <span style=\"color: #008000; text-decoration-color: #008000\">'safety_ratings'</span>: <span style=\"font-weight: bold\">[]</span>\n",
       "    <span style=\"font-weight: bold\">}</span>,\n",
       "    <span style=\"color: #808000; text-decoration-color: #808000\">id</span>=<span style=\"color: #008000; text-decoration-color: #008000\">'run--506a9732-d52d-40a2-a093-57329a30880e-0'</span>,\n",
       "    <span style=\"color: #808000; text-decoration-color: #808000\">usage_metadata</span>=<span style=\"font-weight: bold\">{</span>\n",
       "        <span style=\"color: #008000; text-decoration-color: #008000\">'input_tokens'</span>: <span style=\"color: #008080; text-decoration-color: #008080; font-weight: bold\">25</span>,\n",
       "        <span style=\"color: #008000; text-decoration-color: #008000\">'output_tokens'</span>: <span style=\"color: #008080; text-decoration-color: #008080; font-weight: bold\">30</span>,\n",
       "        <span style=\"color: #008000; text-decoration-color: #008000\">'total_tokens'</span>: <span style=\"color: #008080; text-decoration-color: #008080; font-weight: bold\">1901</span>,\n",
       "        <span style=\"color: #008000; text-decoration-color: #008000\">'input_token_details'</span>: <span style=\"font-weight: bold\">{</span><span style=\"color: #008000; text-decoration-color: #008000\">'cache_read'</span>: <span style=\"color: #008080; text-decoration-color: #008080; font-weight: bold\">0</span><span style=\"font-weight: bold\">}</span>\n",
       "    <span style=\"font-weight: bold\">}</span>\n",
       "<span style=\"font-weight: bold\">)</span>\n",
       "</pre>\n"
      ]
     },
     "metadata": {},
     "output_type": "display_data"
    }
   ],
   "execution_count": 3
  },
  {
   "cell_type": "code",
   "id": "ce6cc49e",
   "metadata": {
    "ExecuteTime": {
     "end_time": "2025-07-03T05:49:05.656301Z",
     "start_time": "2025-07-03T05:49:05.643023Z"
    }
   },
   "source": [
    "class State(TypedDict):\n",
    "    messages: Annotated[list, add_messages]\n",
    "\n",
    "\n",
    "def chatbot(state: State) -> State:\n",
    "    return {\"messages\": [llm.invoke(state[\"messages\"])]}"
   ],
   "outputs": [],
   "execution_count": 4
  },
  {
   "cell_type": "code",
   "id": "317752cc",
   "metadata": {
    "ExecuteTime": {
     "end_time": "2025-07-03T05:49:06.438839Z",
     "start_time": "2025-07-03T05:49:06.423894Z"
    }
   },
   "source": [
    "# build our graph\n",
    "builder = StateGraph(State)\n",
    "builder.add_node(\"chatbot\", chatbot)\n",
    "# build edges: START -> chatbot -> END\n",
    "builder.add_edge(START, \"chatbot\")\n",
    "builder.add_edge(\"chatbot\", END)\n",
    "graph = builder.compile()"
   ],
   "outputs": [],
   "execution_count": 5
  },
  {
   "cell_type": "code",
   "id": "2ecc2975",
   "metadata": {
    "ExecuteTime": {
     "end_time": "2025-07-03T05:49:14.812345Z",
     "start_time": "2025-07-03T05:49:14.073825Z"
    }
   },
   "source": [
    "# display the graph\n",
    "from IPython.display import Image, display\n",
    "\n",
    "display(Image(graph.get_graph().draw_mermaid_png()))"
   ],
   "outputs": [
    {
     "data": {
      "image/png": "[encoded data removed]",
      "text/plain": [
       "<IPython.core.display.Image object>"
      ]
     },
     "metadata": {},
     "output_type": "display_data"
    }
   ],
   "execution_count": 6
  },
  {
   "cell_type": "code",
   "id": "fa70a03a",
   "metadata": {
    "ExecuteTime": {
     "end_time": "2025-07-03T05:49:21.131158Z",
     "start_time": "2025-07-03T05:49:20.248182Z"
    }
   },
   "source": [
    "prompt: str = \"Who was the first person to walk on the moon? Return just a name.\"\n",
    "\n",
    "message = {\"role\": \"user\", \"content\": prompt}\n",
    "\n",
    "# state = State(messages=[prompt])\n",
    "response = graph.invoke({\"messages\": [message]})\n",
    "console.print(response)"
   ],
   "outputs": [
    {
     "data": {
      "text/plain": [
       "\u001B[1m{\u001B[0m\n",
       "    \u001B[32m'messages'\u001B[0m: \u001B[1m[\u001B[0m\n",
       "        \u001B[1;35mHumanMessage\u001B[0m\u001B[1m(\u001B[0m\n",
       "            \u001B[33mcontent\u001B[0m=\u001B[32m'Who was the first person to walk on the moon? Return just a name.'\u001B[0m,\n",
       "            \u001B[33madditional_kwargs\u001B[0m=\u001B[1m{\u001B[0m\u001B[1m}\u001B[0m,\n",
       "            \u001B[33mresponse_metadata\u001B[0m=\u001B[1m{\u001B[0m\u001B[1m}\u001B[0m,\n",
       "            \u001B[33mid\u001B[0m=\u001B[32m'c9061fae-6d83-4eb3-9b81-445ecefcfb00'\u001B[0m\n",
       "        \u001B[1m)\u001B[0m,\n",
       "        \u001B[1;35mAIMessage\u001B[0m\u001B[1m(\u001B[0m\n",
       "            \u001B[33mcontent\u001B[0m=\u001B[32m'Neil Armstrong'\u001B[0m,\n",
       "            \u001B[33madditional_kwargs\u001B[0m=\u001B[1m{\u001B[0m\u001B[1m}\u001B[0m,\n",
       "            \u001B[33mresponse_metadata\u001B[0m=\u001B[1m{\u001B[0m\n",
       "                \u001B[32m'prompt_feedback'\u001B[0m: \u001B[1m{\u001B[0m\u001B[32m'block_reason'\u001B[0m: \u001B[1;36m0\u001B[0m, \u001B[32m'safety_ratings'\u001B[0m: \u001B[1m[\u001B[0m\u001B[1m]\u001B[0m\u001B[1m}\u001B[0m,\n",
       "                \u001B[32m'finish_reason'\u001B[0m: \u001B[32m'STOP'\u001B[0m,\n",
       "                \u001B[32m'safety_ratings'\u001B[0m: \u001B[1m[\u001B[0m\u001B[1m]\u001B[0m\n",
       "            \u001B[1m}\u001B[0m,\n",
       "            \u001B[33mid\u001B[0m=\u001B[32m'run--15b15f19-fb15-44db-a699-cffc5f5222cb-0'\u001B[0m,\n",
       "            \u001B[33musage_metadata\u001B[0m=\u001B[1m{\u001B[0m\n",
       "                \u001B[32m'input_tokens'\u001B[0m: \u001B[1;36m17\u001B[0m,\n",
       "                \u001B[32m'output_tokens'\u001B[0m: \u001B[1;36m2\u001B[0m,\n",
       "                \u001B[32m'total_tokens'\u001B[0m: \u001B[1;36m50\u001B[0m,\n",
       "                \u001B[32m'input_token_details'\u001B[0m: \u001B[1m{\u001B[0m\u001B[32m'cache_read'\u001B[0m: \u001B[1;36m0\u001B[0m\u001B[1m}\u001B[0m\n",
       "            \u001B[1m}\u001B[0m\n",
       "        \u001B[1m)\u001B[0m\n",
       "    \u001B[1m]\u001B[0m\n",
       "\u001B[1m}\u001B[0m\n"
      ],
      "text/html": [
       "<pre style=\"white-space:pre;overflow-x:auto;line-height:normal;font-family:Menlo,'DejaVu Sans Mono',consolas,'Courier New',monospace\"><span style=\"font-weight: bold\">{</span>\n",
       "    <span style=\"color: #008000; text-decoration-color: #008000\">'messages'</span>: <span style=\"font-weight: bold\">[</span>\n",
       "        <span style=\"color: #800080; text-decoration-color: #800080; font-weight: bold\">HumanMessage</span><span style=\"font-weight: bold\">(</span>\n",
       "            <span style=\"color: #808000; text-decoration-color: #808000\">content</span>=<span style=\"color: #008000; text-decoration-color: #008000\">'Who was the first person to walk on the moon? Return just a name.'</span>,\n",
       "            <span style=\"color: #808000; text-decoration-color: #808000\">additional_kwargs</span>=<span style=\"font-weight: bold\">{}</span>,\n",
       "            <span style=\"color: #808000; text-decoration-color: #808000\">response_metadata</span>=<span style=\"font-weight: bold\">{}</span>,\n",
       "            <span style=\"color: #808000; text-decoration-color: #808000\">id</span>=<span style=\"color: #008000; text-decoration-color: #008000\">'c9061fae-6d83-4eb3-9b81-445ecefcfb00'</span>\n",
       "        <span style=\"font-weight: bold\">)</span>,\n",
       "        <span style=\"color: #800080; text-decoration-color: #800080; font-weight: bold\">AIMessage</span><span style=\"font-weight: bold\">(</span>\n",
       "            <span style=\"color: #808000; text-decoration-color: #808000\">content</span>=<span style=\"color: #008000; text-decoration-color: #008000\">'Neil Armstrong'</span>,\n",
       "            <span style=\"color: #808000; text-decoration-color: #808000\">additional_kwargs</span>=<span style=\"font-weight: bold\">{}</span>,\n",
       "            <span style=\"color: #808000; text-decoration-color: #808000\">response_metadata</span>=<span style=\"font-weight: bold\">{</span>\n",
       "                <span style=\"color: #008000; text-decoration-color: #008000\">'prompt_feedback'</span>: <span style=\"font-weight: bold\">{</span><span style=\"color: #008000; text-decoration-color: #008000\">'block_reason'</span>: <span style=\"color: #008080; text-decoration-color: #008080; font-weight: bold\">0</span>, <span style=\"color: #008000; text-decoration-color: #008000\">'safety_ratings'</span>: <span style=\"font-weight: bold\">[]}</span>,\n",
       "                <span style=\"color: #008000; text-decoration-color: #008000\">'finish_reason'</span>: <span style=\"color: #008000; text-decoration-color: #008000\">'STOP'</span>,\n",
       "                <span style=\"color: #008000; text-decoration-color: #008000\">'safety_ratings'</span>: <span style=\"font-weight: bold\">[]</span>\n",
       "            <span style=\"font-weight: bold\">}</span>,\n",
       "            <span style=\"color: #808000; text-decoration-color: #808000\">id</span>=<span style=\"color: #008000; text-decoration-color: #008000\">'run--15b15f19-fb15-44db-a699-cffc5f5222cb-0'</span>,\n",
       "            <span style=\"color: #808000; text-decoration-color: #808000\">usage_metadata</span>=<span style=\"font-weight: bold\">{</span>\n",
       "                <span style=\"color: #008000; text-decoration-color: #008000\">'input_tokens'</span>: <span style=\"color: #008080; text-decoration-color: #008080; font-weight: bold\">17</span>,\n",
       "                <span style=\"color: #008000; text-decoration-color: #008000\">'output_tokens'</span>: <span style=\"color: #008080; text-decoration-color: #008080; font-weight: bold\">2</span>,\n",
       "                <span style=\"color: #008000; text-decoration-color: #008000\">'total_tokens'</span>: <span style=\"color: #008080; text-decoration-color: #008080; font-weight: bold\">50</span>,\n",
       "                <span style=\"color: #008000; text-decoration-color: #008000\">'input_token_details'</span>: <span style=\"font-weight: bold\">{</span><span style=\"color: #008000; text-decoration-color: #008000\">'cache_read'</span>: <span style=\"color: #008080; text-decoration-color: #008080; font-weight: bold\">0</span><span style=\"font-weight: bold\">}</span>\n",
       "            <span style=\"font-weight: bold\">}</span>\n",
       "        <span style=\"font-weight: bold\">)</span>\n",
       "    <span style=\"font-weight: bold\">]</span>\n",
       "<span style=\"font-weight: bold\">}</span>\n",
       "</pre>\n"
      ]
     },
     "metadata": {},
     "output_type": "display_data"
    }
   ],
   "execution_count": 7
  },
  {
   "cell_type": "code",
   "id": "ed2c1d16",
   "metadata": {
    "ExecuteTime": {
     "end_time": "2025-07-03T05:54:33.032266Z",
     "start_time": "2025-07-03T05:53:08.901024Z"
    }
   },
   "source": [
    "# this is a chat in loop\n",
    "state: State = None\n",
    "while True:\n",
    "    #console.print(\"[green]You: [/green]\", end=\"\")\n",
    "    in_message = input(\"You: \")\n",
    "\n",
    "    if in_message.strip().lower() in [\"exit\", \"quit\", \"bye\"]:\n",
    "        break\n",
    "\n",
    "    if state is None:\n",
    "        state: State = {\"messages\": [{\"role\": \"user\", \"content\": in_message}]}\n",
    "    else:\n",
    "        state[\"messages\"].append({\"role\": \"user\", \"content\": in_message})\n",
    "\n",
    "    state = graph.invoke(state)\n",
    "    # console.print(f\"[blue]Bot: [/blue] {state['messages'][-1].content}\")\n",
    "    print(f\"Bot: {state['messages'][-1].content}\")\n"
   ],
   "outputs": [
    {
     "name": "stdout",
     "output_type": "stream",
     "text": [
      "Bot: Neil Armstrong\n",
      "Bot: July 20, 1969\n",
      "Bot: Apollo 11\n",
      "Bot: Buzz Aldrin and Michael Collins\n",
      "Bot: United States\n"
     ]
    }
   ],
   "execution_count": 10
  }
 ],
 "metadata": {
  "kernelspec": {
   "display_name": "langgraph-learning",
   "language": "python",
   "name": "python3"
  },
  "language_info": {
   "codemirror_mode": {
    "name": "ipython",
    "version": 3
   },
   "file_extension": ".py",
   "mimetype": "text/x-python",
   "name": "python",
   "nbconvert_exporter": "python",
   "pygments_lexer": "ipython3",
   "version": "3.12.7"
  }
 },
 "nbformat": 4,
 "nbformat_minor": 5
}
