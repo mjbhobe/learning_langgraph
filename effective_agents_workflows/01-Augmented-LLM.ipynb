{
 "cells": [
  {
   "cell_type": "markdown",
   "id": "21436c21",
   "metadata": {},
   "source": [
    "## The Augmented LLM\n",
    "In this workbook we'll build a sample workflow of an Augmented LLM, like the one shown in the image below:\n",
    "\n",
    "<div align=\"center\">\n",
    "<img src=\"images/01-Augmented-LLM.png\" width=\"300\" heigh=\"250\" alt=\"Augmented LLM\"/>\n",
    "</div>"
   ]
  },
  {
   "cell_type": "code",
   "execution_count": 2,
   "id": "434b23fa",
   "metadata": {},
   "outputs": [],
   "source": [
    "from dotenv import load_dotenv\n",
    "from pydantic import BaseModel, Field\n",
    "\n",
    "from langchain.chat_models import init_chat_model"
   ]
  },
  {
   "cell_type": "code",
   "execution_count": 3,
   "id": "0ec84676",
   "metadata": {},
   "outputs": [
    {
     "data": {
      "text/plain": [
       "True"
      ]
     },
     "execution_count": 3,
     "metadata": {},
     "output_type": "execute_result"
    }
   ],
   "source": [
    "load_dotenv(override=True)"
   ]
  },
  {
   "cell_type": "code",
   "execution_count": 4,
   "id": "825fdde8",
   "metadata": {},
   "outputs": [
    {
     "name": "stderr",
     "output_type": "stream",
     "text": [
      "/home/mjbhobe/code/git-projects/learning_langgraph/.venv/lib/python3.12/site-packages/tqdm/auto.py:21: TqdmWarning: IProgress not found. Please update jupyter and ipywidgets. See https://ipywidgets.readthedocs.io/en/stable/user_install.html\n",
      "  from .autonotebook import tqdm as notebook_tqdm\n"
     ]
    }
   ],
   "source": [
    "# create our LLM - we'll be using Google Gemini flash\n",
    "llm = init_chat_model(\"google_genai:gemini-2.5-flash\", temperature=0.0)"
   ]
  },
  {
   "cell_type": "code",
   "execution_count": 5,
   "id": "b5d2fa89",
   "metadata": {},
   "outputs": [],
   "source": [
    "# for structured results from query, we use a Pydantic model\n",
    "class SearchQuery(BaseModel):\n",
    "    search_query: str = Field(None, description=\"Query that is an optimized web search\")\n",
    "    justification: str = Field(\n",
    "        None, description=\"Why this query is relevant to user's request\"\n",
    "    )\n",
    "\n",
    "\n",
    "# aument llm with structured output\n",
    "structured_llm = llm.with_structured_output(SearchQuery)"
   ]
  },
  {
   "cell_type": "code",
   "execution_count": 6,
   "id": "1f3c4127",
   "metadata": {},
   "outputs": [
    {
     "name": "stdout",
     "output_type": "stream",
     "text": [
      "Search Query: does regular consumption of rice in reasonable proportions cause weight gain\n",
      "Justification: The user is asking about the effect of regular rice consumption on weight gain when consumed in reasonable proportions. A web search can provide information on this topic.\n"
     ]
    }
   ],
   "source": [
    "# ask LLM a question\n",
    "response = structured_llm.invoke(\n",
    "    \"Does regular consumption of rice, in resonable proportions, cause weight gain?\"\n",
    ")\n",
    "print(f\"Search Query: {response.search_query}\")\n",
    "print(f\"Justification: {response.justification}\")"
   ]
  },
  {
   "cell_type": "markdown",
   "id": "cca8944e",
   "metadata": {},
   "source": [
    "Now let us illustrate how you can use tool(s) with an LLM."
   ]
  },
  {
   "cell_type": "code",
   "execution_count": 7,
   "id": "0441eeb8",
   "metadata": {},
   "outputs": [
    {
     "name": "stdout",
     "output_type": "stream",
     "text": [
      "What is product of 45 and 6: \n",
      "[{'name': 'multiply', 'args': {'a': 45.0, 'b': 6.0}, 'id': 'a7d3d516-4b1a-4d46-bdab-11abdad3a6af', 'type': 'tool_call'}]\n"
     ]
    }
   ],
   "source": [
    "# define the tool (basically just a function)\n",
    "def multiply(a: float, b: float) -> float:\n",
    "    \"\"\"return the product or multiplication of two numbers\"\"\"\n",
    "    return a * b\n",
    "\n",
    "\n",
    "# bind the LLM to tools provided\n",
    "llm_with_tools = llm.bind_tools([multiply])\n",
    "\n",
    "# and call the LLM\n",
    "query: str = \"What is product of 45 and 6\"\n",
    "response = llm_with_tools.invoke(query)\n",
    "print(f\"{query}: {response.content}\")\n",
    "# check which tools, if any, were called by LLM\n",
    "print(response.tool_calls)"
   ]
  },
  {
   "cell_type": "code",
   "execution_count": 8,
   "id": "568bd247",
   "metadata": {},
   "outputs": [
    {
     "data": {
      "text/plain": [
       "AIMessage(content='', additional_kwargs={'function_call': {'name': 'multiply', 'arguments': '{\"a\": 45.0, \"b\": 6.0}'}}, response_metadata={'prompt_feedback': {'block_reason': 0, 'safety_ratings': []}, 'finish_reason': 'STOP', 'safety_ratings': []}, id='run--440c660e-4ac1-40a8-8776-3000fe58bb62-0', tool_calls=[{'name': 'multiply', 'args': {'a': 45.0, 'b': 6.0}, 'id': 'a7d3d516-4b1a-4d46-bdab-11abdad3a6af', 'type': 'tool_call'}], usage_metadata={'input_tokens': 60, 'output_tokens': 19, 'total_tokens': 146, 'input_token_details': {'cache_read': 0}})"
      ]
     },
     "execution_count": 8,
     "metadata": {},
     "output_type": "execute_result"
    }
   ],
   "source": [
    "response"
   ]
  },
  {
   "cell_type": "markdown",
   "id": "186ff2fd",
   "metadata": {},
   "source": [
    "Notice that the LLM _does not_ actually call the tool. It just tells you that \"for this user query _you_ should be calling _this specific tool_\" (in our case that'll be `multiply`). The LLM _helps_ you with the payload that should be used for the tool call (in this case `{'a': 45.0 and 'b': 6.0}` - perfect!). Then you should call the LLM again with this payload and you get an _Agent_!"
   ]
  }
 ],
 "metadata": {
  "kernelspec": {
   "display_name": ".venv",
   "language": "python",
   "name": "python3"
  },
  "language_info": {
   "codemirror_mode": {
    "name": "ipython",
    "version": 3
   },
   "file_extension": ".py",
   "mimetype": "text/x-python",
   "name": "python",
   "nbconvert_exporter": "python",
   "pygments_lexer": "ipython3",
   "version": "3.12.7"
  }
 },
 "nbformat": 4,
 "nbformat_minor": 5
}
