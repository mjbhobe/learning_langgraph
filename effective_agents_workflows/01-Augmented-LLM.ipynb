{
 "cells": [
  {
   "cell_type": "markdown",
   "id": "21436c21",
   "metadata": {},
   "source": [
    "## The Augmented LLM\n",
    "In this workbook we'll build a sample workflow of an Augmented LLM, like the one shown in the image below:\n",
    "\n",
    "<div align=\"center\">\n",
    "<img src=\"images/01-Augmented-LLM.png\" width=\"300\" heigh=\"250\" alt=\"Augmented LLM\"/>\n",
    "</div>"
   ]
  },
  {
   "cell_type": "code",
   "execution_count": null,
   "id": "70462498",
   "metadata": {
    "vscode": {
     "languageId": "plaintext"
    }
   },
   "outputs": [],
   "source": []
  },
  {
   "cell_type": "code",
   "execution_count": null,
   "id": "23e7b4c5",
   "metadata": {
    "vscode": {
     "languageId": "plaintext"
    }
   },
   "outputs": [],
   "source": []
  },
  {
   "cell_type": "code",
   "execution_count": null,
   "id": "75f3502d",
   "metadata": {
    "vscode": {
     "languageId": "plaintext"
    }
   },
   "outputs": [],
   "source": []
  }
 ],
 "metadata": {
  "language_info": {
   "name": "python"
  }
 },
 "nbformat": 4,
 "nbformat_minor": 5
}
