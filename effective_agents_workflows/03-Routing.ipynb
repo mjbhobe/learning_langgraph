{
 "cells": [
  {
   "cell_type": "markdown",
   "id": "21436c21",
   "metadata": {},
   "source": [
    "## Routing Pattern\n",
    "In this workbook we'll build a workflow that illustrates _Routing_. In this pattern you pick one of many options depending on a \"decision\" in the previous node. For example, consider the case of a call triaging agent for a cell center, say for a credit card company. Depending on the nature of the request - e.g. Balance Inquiry, Reporting Loss, Incorrect Charges etc. - the call is routed through different paths for servicing the customer request. \n",
    "\n",
    "<div align=\"center\">\n",
    "<img src=\"images/03-Routing.png\" width=\"360\" heigh=\"250\" alt=\"Parallelization\"/>\n",
    "</div>\n",
    "\n",
    "Here's what we'll be building in this example:\n",
    "* dddd"
   ]
  },
  {
   "cell_type": "code",
   "execution_count": 7,
   "id": "434b23fa",
   "metadata": {},
   "outputs": [],
   "source": [
    "from dotenv import load_dotenv\n",
    "from time import sleep\n",
    "from rich.console import Console\n",
    "from typing import TypedDict\n",
    "from pydantic import BaseModel, Field\n",
    "\n",
    "from langchain.chat_models import init_chat_model\n",
    "from langchain_core.messages import HumanMessage, SystemMessage\n",
    "\n",
    "from langgraph.graph import StateGraph, START, END"
   ]
  },
  {
   "cell_type": "code",
   "execution_count": 2,
   "id": "0ec84676",
   "metadata": {},
   "outputs": [],
   "source": [
    "load_dotenv(override=True)\n",
    "\n",
    "console = Console()"
   ]
  },
  {
   "cell_type": "code",
   "execution_count": 3,
   "id": "825fdde8",
   "metadata": {},
   "outputs": [
    {
     "name": "stderr",
     "output_type": "stream",
     "text": [
      "/home/mjbhobe/code/git-projects/learning_langgraph/.venv/lib/python3.12/site-packages/tqdm/auto.py:21: TqdmWarning: IProgress not found. Please update jupyter and ipywidgets. See https://ipywidgets.readthedocs.io/en/stable/user_install.html\n",
      "  from .autonotebook import tqdm as notebook_tqdm\n"
     ]
    }
   ],
   "source": [
    "# create our LLM - we'll be using Google Gemini flash - let;s make it creative\n",
    "llm = init_chat_model(\"google_genai:gemini-2.5-flash\", temperature=0.4)"
   ]
  },
  {
   "cell_type": "code",
   "execution_count": 4,
   "id": "5d9670bd",
   "metadata": {},
   "outputs": [],
   "source": [
    "# based model to get structured output from LLM\n",
    "from typing import Literal\n",
    "\n",
    "\n",
    "class Route(BaseModel):\n",
    "    step: Literal[\"joke\", \"story\", \"poem\"] = Field(\n",
    "        None, description=\"The next step in the routing process\"\n",
    "    )\n",
    "\n",
    "\n",
    "router_llm = llm.with_structured_output(Route)"
   ]
  },
  {
   "cell_type": "code",
   "execution_count": null,
   "id": "b5d2fa89",
   "metadata": {},
   "outputs": [],
   "source": [
    "# the graph state\n",
    "class State(TypedDict):\n",
    "    input: str  # input from user\n",
    "    decision: str  # decision made by the router\n",
    "    output: str  # output from the agent\n",
    "    log: bool  # flag to log message, if True"
   ]
  },
  {
   "cell_type": "markdown",
   "id": "23793dc4",
   "metadata": {},
   "source": [
    "Each node in the graph (see illustration above) is a function - these are the functions"
   ]
  },
  {
   "cell_type": "code",
   "execution_count": 11,
   "id": "e77d6f59",
   "metadata": {},
   "outputs": [],
   "source": [
    "def generate_joke(state: State):\n",
    "    \"\"\"the LLM Call 1 brance - to generate the joke for given input by user\"\"\"\n",
    "    response = llm.invoke(state[\"input\"])\n",
    "    if \"log\" in state.keys():\n",
    "        console.print(f\"[green]generate_joke() -> [/green] {response.content}\")\n",
    "    return {\"output\": response.content}\n",
    "\n",
    "\n",
    "def generate_story(state: State):\n",
    "    \"\"\"the LLM Call 2 brance - to generate a story for given input by user\"\"\"\n",
    "    response = llm.invoke(state[\"input\"])\n",
    "    if \"log\" in state.keys():\n",
    "        console.print(f\"[green]generate_story() -> [/green] {response.content}\")\n",
    "    return {\"output\": response.content}\n",
    "\n",
    "\n",
    "def generate_poem(state: State):\n",
    "    \"\"\"the LLM Call 3 brance - to generate a poem for given input by user\"\"\"\n",
    "    response = llm.invoke(state[\"input\"])\n",
    "    if \"log\" in state.keys():\n",
    "        console.print(f\"[green]generate_poem() -> [/green] {response.content}\")\n",
    "    return {\"output\": response.content}\n",
    "\n",
    "\n",
    "def route_call(state: State):\n",
    "    \"\"\"the LLM call router node - routes the call to appropriate branch\"\"\"\n",
    "    # NOTE: we call the router_llm in this call, not llm\n",
    "    response = router_llm.invoke(\n",
    "        [\n",
    "            SystemMessage(\n",
    "                content=\"Route the input to joke, story or poem based on user's request\"\n",
    "            ),\n",
    "            HumanMessage(content=state[\"input\"]),\n",
    "        ]\n",
    "    )\n",
    "    # NOTE: router_llm returns structured output (== instance of Route class)\n",
    "    return {\"decision\": response.step}\n",
    "\n",
    "\n",
    "def route_decision(state: State):\n",
    "    \"\"\"pick the graph node to route to next\"\"\"\n",
    "    if state[\"decision\"] == \"joke\":\n",
    "        return \"goto_joke\"\n",
    "    elif state[\"decision\"] == \"story\":\n",
    "        return \"goto_story\"\n",
    "    elif state[\"decision\"] == \"poem\":\n",
    "        return \"goto_poem\""
   ]
  },
  {
   "cell_type": "code",
   "execution_count": 13,
   "id": "f85bddfe",
   "metadata": {},
   "outputs": [],
   "source": [
    "# build out our graph\n",
    "builder = StateGraph(State)\n",
    "\n",
    "# add our nodes\n",
    "builder.add_node(\"route_call\", route_call)\n",
    "builder.add_node(\"generate_joke\", generate_joke)\n",
    "builder.add_node(\"generate_story\", generate_story)\n",
    "builder.add_node(\"generate_poem\", generate_poem)\n",
    "\n",
    "# and edges\n",
    "builder.add_edge(START, \"route_call\")\n",
    "builder.add_conditional_edges(\n",
    "    \"route_call\",\n",
    "    route_decision,\n",
    "    {\n",
    "        \"goto_joke\": \"generate_joke\",\n",
    "        \"goto_poem\": \"generate_poem\",\n",
    "        \"goto_story\": \"generate_story\",\n",
    "    },\n",
    ")\n",
    "builder.add_edge(\"generate_joke\", END)\n",
    "builder.add_edge(\"generate_story\", END)\n",
    "builder.add_edge(\"generate_poem\", END)\n",
    "graph = builder.compile()"
   ]
  },
  {
   "cell_type": "code",
   "execution_count": 14,
   "id": "77fa6cfa",
   "metadata": {},
   "outputs": [
    {
     "data": {
      "image/png": "[encoded data removed]",
      "text/plain": [
       "<IPython.core.display.Image object>"
      ]
     },
     "metadata": {},
     "output_type": "display_data"
    }
   ],
   "source": [
    "# view the generated graph\n",
    "# display the graph\n",
    "from IPython.display import Image, display\n",
    "\n",
    "display(Image(graph.get_graph().draw_mermaid_png()))"
   ]
  },
  {
   "cell_type": "code",
   "execution_count": 17,
   "id": "ff32a758",
   "metadata": {},
   "outputs": [
    {
     "data": {
      "text/html": [
       "<pre style=\"white-space:pre;overflow-x:auto;line-height:normal;font-family:Menlo,'DejaVu Sans Mono',consolas,'Courier New',monospace\"><span style=\"color: #008000; text-decoration-color: #008000\"> Final output -&gt; </span> Why did the cat sit on the computer?\n",
       "\n",
       "Because it wanted to keep an eye on the *mouse*!\n",
       "</pre>\n"
      ],
      "text/plain": [
       "\u001b[32m Final output -> \u001b[0m Why did the cat sit on the computer?\n",
       "\n",
       "Because it wanted to keep an eye on the *mouse*!\n"
      ]
     },
     "metadata": {},
     "output_type": "display_data"
    }
   ],
   "source": [
    "# invoke the graph\n",
    "response = graph.invoke({\"input\": \"Write a joke about cats\"})\n",
    "console.print(f\"[green] Final output -> [/green] {response[\"output\"]}\")"
   ]
  },
  {
   "cell_type": "code",
   "execution_count": null,
   "id": "6e5646ee",
   "metadata": {},
   "outputs": [],
   "source": []
  }
 ],
 "metadata": {
  "kernelspec": {
   "display_name": ".venv",
   "language": "python",
   "name": "python3"
  },
  "language_info": {
   "codemirror_mode": {
    "name": "ipython",
    "version": 3
   },
   "file_extension": ".py",
   "mimetype": "text/x-python",
   "name": "python",
   "nbconvert_exporter": "python",
   "pygments_lexer": "ipython3",
   "version": "3.12.7"
  }
 },
 "nbformat": 4,
 "nbformat_minor": 5
}
