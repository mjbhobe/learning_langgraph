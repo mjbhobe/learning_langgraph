{
 "cells": [
  {
   "cell_type": "code",
   "execution_count": 1,
   "id": "initial_id",
   "metadata": {
    "ExecuteTime": {
     "end_time": "2025-06-30T04:57:51.676994Z",
     "start_time": "2025-06-30T04:57:51.669026Z"
    },
    "collapsed": true
   },
   "outputs": [
    {
     "ename": "ModuleNotFoundError",
     "evalue": "No module named 'langgraph'",
     "output_type": "error",
     "traceback": [
      "\u001b[0;31m---------------------------------------------------------------------------\u001b[0m",
      "\u001b[0;31mModuleNotFoundError\u001b[0m                       Traceback (most recent call last)",
      "Cell \u001b[0;32mIn[1], line 2\u001b[0m\n\u001b[1;32m      1\u001b[0m \u001b[38;5;28;01mfrom\u001b[39;00m \u001b[38;5;21;01mtyping\u001b[39;00m \u001b[38;5;28;01mimport\u001b[39;00m TypedDict\n\u001b[0;32m----> 2\u001b[0m \u001b[38;5;28;01mfrom\u001b[39;00m \u001b[38;5;21;01mlanggraph\u001b[39;00m\u001b[38;5;21;01m.\u001b[39;00m\u001b[38;5;21;01mgraph\u001b[39;00m \u001b[38;5;28;01mimport\u001b[39;00m StateGraph, START, END\n\u001b[1;32m      3\u001b[0m \u001b[38;5;28;01mfrom\u001b[39;00m \u001b[38;5;21;01mrich\u001b[39;00m\u001b[38;5;21;01m.\u001b[39;00m\u001b[38;5;21;01mconsole\u001b[39;00m \u001b[38;5;28;01mimport\u001b[39;00m Console\n",
      "\u001b[0;31mModuleNotFoundError\u001b[0m: No module named 'langgraph'"
     ]
    }
   ],
   "source": [
    "from typing import TypedDict\n",
    "from langgraph.graph import StateGraph, START, END\n",
    "from rich.console import Console"
   ]
  },
  {
   "cell_type": "code",
   "execution_count": null,
   "id": "ba12e22c",
   "metadata": {},
   "outputs": [],
   "source": [
    "console = Console()"
   ]
  },
  {
   "cell_type": "markdown",
   "id": "2cf5a20844a64b6f",
   "metadata": {},
   "source": [
    "### Define the graph state"
   ]
  },
  {
   "cell_type": "code",
   "execution_count": null,
   "id": "052eba27",
   "metadata": {},
   "outputs": [],
   "source": [
    "class PortfolioState(TypedDict):\n",
    "    amount_usd: float\n",
    "    interest_rate: float\n",
    "    total_usd: float\n",
    "    usd_to_inr: float\n",
    "    total_inr: float"
   ]
  },
  {
   "cell_type": "code",
   "execution_count": null,
   "id": "d34c04cababcf961",
   "metadata": {
    "ExecuteTime": {
     "end_time": "2025-06-30T04:57:52.631059Z",
     "start_time": "2025-06-30T04:57:52.614710Z"
    }
   },
   "outputs": [
    {
     "data": {
      "text/plain": [
       "{'amount_usd': 1000.0,\n",
       " 'interest_rate': 1.08,\n",
       " 'total_usd': 0.0,\n",
       " 'usd_to_inr': 85.46,\n",
       " 'total_inr': 0.0}"
      ]
     },
     "execution_count": 33,
     "metadata": {},
     "output_type": "execute_result"
    }
   ],
   "source": [
    "pf_state = PortfolioState(\n",
    "    amount_usd=1000.0,\n",
    "    interest_rate=1.08,\n",
    "    total_usd=0.0,\n",
    "    usd_to_inr=85.46,\n",
    "    total_inr=0.0,\n",
    ")\n",
    "pf_state"
   ]
  },
  {
   "cell_type": "code",
   "execution_count": null,
   "id": "6fee432caec64469",
   "metadata": {
    "ExecuteTime": {
     "end_time": "2025-06-30T04:57:53.072855Z",
     "start_time": "2025-06-30T04:57:53.067352Z"
    }
   },
   "outputs": [],
   "source": [
    "# node to calculate interest on usd investment\n",
    "def calc_usd_with_interest(state: PortfolioState) -> PortfolioState:\n",
    "    state[\"total_usd\"] = state[\"amount_usd\"] * state[\"interest_rate\"]\n",
    "    console.print(\n",
    "        f\"[green]Amount USD:[/green] {state['amount_usd']},\\n[green]Interest Rate:[/green] {state['interest_rate']},\\n [green]Total USD:[/green] {state['total_usd']}\"\n",
    "    )\n",
    "    return state"
   ]
  },
  {
   "cell_type": "code",
   "execution_count": null,
   "id": "665ff44ff6a6fff2",
   "metadata": {
    "ExecuteTime": {
     "end_time": "2025-06-30T04:57:53.629169Z",
     "start_time": "2025-06-30T04:57:53.618494Z"
    }
   },
   "outputs": [],
   "source": [
    "# convert usd to inr\n",
    "def convert_usd_to_inr(state: PortfolioState) -> PortfolioState:\n",
    "    state[\"total_inr\"] = state[\"total_usd\"] * state[\"usd_to_inr\"]\n",
    "    console.print(\n",
    "        f\"[green]Total USD:[/green] {state['total_usd']}[green],\\n [green]Conv rate:[/green] {state['usd_to_inr']},\\n [green]Total INR:[/green] {state['total_inr']:.4f}\"\n",
    "    )\n",
    "    return state"
   ]
  },
  {
   "cell_type": "code",
   "execution_count": null,
   "id": "49ca73a8f7669182",
   "metadata": {
    "ExecuteTime": {
     "end_time": "2025-06-30T04:57:53.971063Z",
     "start_time": "2025-06-30T04:57:53.964698Z"
    }
   },
   "outputs": [],
   "source": [
    "# build my graph\n",
    "builder = StateGraph(PortfolioState)\n",
    "# add nodes\n",
    "builder.add_node(\"calc_usd_with_interest\", calc_usd_with_interest)\n",
    "builder.add_node(\"convert_usd_to_inr\", convert_usd_to_inr)\n",
    "# add edges\n",
    "builder.add_edge(START, \"calc_usd_with_interest\")\n",
    "builder.add_edge(\"calc_usd_with_interest\", \"convert_usd_to_inr\")\n",
    "builder.add_edge(\"convert_usd_to_inr\", END)\n",
    "# build the graph\n",
    "graph = builder.compile()"
   ]
  },
  {
   "cell_type": "code",
   "execution_count": null,
   "id": "14d21703",
   "metadata": {},
   "outputs": [
    {
     "data": {
      "image/png": "[encoded data removed]",
      "text/plain": [
       "<IPython.core.display.Image object>"
      ]
     },
     "metadata": {},
     "output_type": "display_data"
    }
   ],
   "source": [
    "# display the graph\n",
    "from IPython.display import Image, display\n",
    "\n",
    "display(Image(graph.get_graph().draw_mermaid_png()))"
   ]
  },
  {
   "cell_type": "code",
   "execution_count": null,
   "id": "d52eb35b97e21780",
   "metadata": {
    "ExecuteTime": {
     "end_time": "2025-06-30T04:57:54.203455Z",
     "start_time": "2025-06-30T04:57:54.196603Z"
    }
   },
   "outputs": [
    {
     "data": {
      "text/html": [
       "<pre style=\"white-space:pre;overflow-x:auto;line-height:normal;font-family:Menlo,'DejaVu Sans Mono',consolas,'Courier New',monospace\"><span style=\"color: #008000; text-decoration-color: #008000\">Amount USD:</span> <span style=\"color: #008080; text-decoration-color: #008080; font-weight: bold\">1000.0</span>,\n",
       "<span style=\"color: #008000; text-decoration-color: #008000\">Interest Rate:</span> <span style=\"color: #008080; text-decoration-color: #008080; font-weight: bold\">1.08</span>,\n",
       " <span style=\"color: #008000; text-decoration-color: #008000\">Total USD:</span> <span style=\"color: #008080; text-decoration-color: #008080; font-weight: bold\">1080.0</span>\n",
       "</pre>\n"
      ],
      "text/plain": [
       "\u001b[32mAmount USD:\u001b[0m \u001b[1;36m1000.0\u001b[0m,\n",
       "\u001b[32mInterest Rate:\u001b[0m \u001b[1;36m1.08\u001b[0m,\n",
       " \u001b[32mTotal USD:\u001b[0m \u001b[1;36m1080.0\u001b[0m\n"
      ]
     },
     "metadata": {},
     "output_type": "display_data"
    },
    {
     "data": {
      "text/html": [
       "<pre style=\"white-space:pre;overflow-x:auto;line-height:normal;font-family:Menlo,'DejaVu Sans Mono',consolas,'Courier New',monospace\"><span style=\"color: #008000; text-decoration-color: #008000\">Total USD:</span> <span style=\"color: #008080; text-decoration-color: #008080; font-weight: bold\">1080.0</span><span style=\"color: #008000; text-decoration-color: #008000\">,</span>\n",
       "<span style=\"color: #008000; text-decoration-color: #008000\"> Conv rate: </span><span style=\"color: #008000; text-decoration-color: #008000; font-weight: bold\">85.46</span><span style=\"color: #008000; text-decoration-color: #008000\">,</span>\n",
       "<span style=\"color: #008000; text-decoration-color: #008000\"> Total INR: </span><span style=\"color: #008000; text-decoration-color: #008000; font-weight: bold\">92296.8000</span>\n",
       "</pre>\n"
      ],
      "text/plain": [
       "\u001b[32mTotal USD:\u001b[0m \u001b[1;36m1080.0\u001b[0m\u001b[32m,\u001b[0m\n",
       "\u001b[32m \u001b[0m\u001b[32mConv rate:\u001b[0m\u001b[32m \u001b[0m\u001b[1;32m85.46\u001b[0m\u001b[32m,\u001b[0m\n",
       "\u001b[32m \u001b[0m\u001b[32mTotal INR:\u001b[0m\u001b[32m \u001b[0m\u001b[1;32m92296.8000\u001b[0m\n"
      ]
     },
     "metadata": {},
     "output_type": "display_data"
    },
    {
     "data": {
      "text/html": [
       "<pre style=\"white-space:pre;overflow-x:auto;line-height:normal;font-family:Menlo,'DejaVu Sans Mono',consolas,'Courier New',monospace\"><span style=\"font-weight: bold\">{</span>\n",
       "    <span style=\"color: #008000; text-decoration-color: #008000\">'amount_usd'</span>: <span style=\"color: #008080; text-decoration-color: #008080; font-weight: bold\">1000.0</span>,\n",
       "    <span style=\"color: #008000; text-decoration-color: #008000\">'interest_rate'</span>: <span style=\"color: #008080; text-decoration-color: #008080; font-weight: bold\">1.08</span>,\n",
       "    <span style=\"color: #008000; text-decoration-color: #008000\">'total_usd'</span>: <span style=\"color: #008080; text-decoration-color: #008080; font-weight: bold\">1080.0</span>,\n",
       "    <span style=\"color: #008000; text-decoration-color: #008000\">'usd_to_inr'</span>: <span style=\"color: #008080; text-decoration-color: #008080; font-weight: bold\">85.46</span>,\n",
       "    <span style=\"color: #008000; text-decoration-color: #008000\">'total_inr'</span>: <span style=\"color: #008080; text-decoration-color: #008080; font-weight: bold\">92296.79999999999</span>\n",
       "<span style=\"font-weight: bold\">}</span>\n",
       "</pre>\n"
      ],
      "text/plain": [
       "\u001b[1m{\u001b[0m\n",
       "    \u001b[32m'amount_usd'\u001b[0m: \u001b[1;36m1000.0\u001b[0m,\n",
       "    \u001b[32m'interest_rate'\u001b[0m: \u001b[1;36m1.08\u001b[0m,\n",
       "    \u001b[32m'total_usd'\u001b[0m: \u001b[1;36m1080.0\u001b[0m,\n",
       "    \u001b[32m'usd_to_inr'\u001b[0m: \u001b[1;36m85.46\u001b[0m,\n",
       "    \u001b[32m'total_inr'\u001b[0m: \u001b[1;36m92296.79999999999\u001b[0m\n",
       "\u001b[1m}\u001b[0m\n"
      ]
     },
     "metadata": {},
     "output_type": "display_data"
    }
   ],
   "source": [
    "# invoke the graph\n",
    "result = graph.invoke(pf_state)\n",
    "console.print(result)"
   ]
  },
  {
   "cell_type": "code",
   "execution_count": null,
   "id": "14894db7",
   "metadata": {},
   "outputs": [],
   "source": []
  }
 ],
 "metadata": {
  "kernelspec": {
   "display_name": "base",
   "language": "python",
   "name": "python3"
  },
  "language_info": {
   "codemirror_mode": {
    "name": "ipython",
    "version": 3
   },
   "file_extension": ".py",
   "mimetype": "text/x-python",
   "name": "python",
   "nbconvert_exporter": "python",
   "pygments_lexer": "ipython3",
   "version": "3.12.7"
  }
 },
 "nbformat": 4,
 "nbformat_minor": 5
}
