{
 "cells": [
  {
   "cell_type": "code",
   "execution_count": 12,
   "id": "initial_id",
   "metadata": {
    "ExecuteTime": {
     "end_time": "2025-06-30T04:57:51.676994Z",
     "start_time": "2025-06-30T04:57:51.669026Z"
    },
    "collapsed": true
   },
   "outputs": [],
   "source": [
    "from operator import add\n",
    "from typing import TypedDict, Annotated\n",
    "from rich.console import Console\n",
    "\n",
    "from langgraph.graph import StateGraph, START, END"
   ]
  },
  {
   "cell_type": "code",
   "execution_count": 13,
   "id": "ba12e22c",
   "metadata": {},
   "outputs": [],
   "source": [
    "console = Console()"
   ]
  },
  {
   "cell_type": "markdown",
   "id": "2cf5a20844a64b6f",
   "metadata": {},
   "source": [
    "### Define the graph state"
   ]
  },
  {
   "cell_type": "code",
   "execution_count": 14,
   "id": "052eba27",
   "metadata": {},
   "outputs": [],
   "source": [
    "class State(TypedDict):\n",
    "    foo: int\n",
    "    bar: Annotated[list[str], add]"
   ]
  },
  {
   "cell_type": "code",
   "execution_count": 15,
   "id": "d34c04cababcf961",
   "metadata": {
    "ExecuteTime": {
     "end_time": "2025-06-30T04:57:52.631059Z",
     "start_time": "2025-06-30T04:57:52.614710Z"
    }
   },
   "outputs": [
    {
     "data": {
      "text/plain": [
       "{'foo': 1, 'bar': ['Hello']}"
      ]
     },
     "execution_count": 15,
     "metadata": {},
     "output_type": "execute_result"
    }
   ],
   "source": [
    "state = State(foo=1, bar=[\"Hello\"])\n",
    "state"
   ]
  },
  {
   "cell_type": "code",
   "execution_count": null,
   "id": "6fee432caec64469",
   "metadata": {
    "ExecuteTime": {
     "end_time": "2025-06-30T04:57:53.072855Z",
     "start_time": "2025-06-30T04:57:53.067352Z"
    }
   },
   "outputs": [],
   "source": [
    "# nodes, which update only parts (or certain members) of the State\n",
    "\n",
    "\n",
    "def update_foo(state: State):\n",
    "    # just updates foo & not bar\n",
    "\n",
    "    return {\"foo\": 2}\n",
    "\n",
    "\n",
    "def update_bar(state: State):\n",
    "    # modified just bar - because bar is a Annotated[list[str], add],\n",
    "    # this will append to bar\n",
    "    return {\"bar\": [\"World!\"]}"
   ]
  },
  {
   "cell_type": "code",
   "execution_count": 17,
   "id": "49ca73a8f7669182",
   "metadata": {
    "ExecuteTime": {
     "end_time": "2025-06-30T04:57:53.971063Z",
     "start_time": "2025-06-30T04:57:53.964698Z"
    }
   },
   "outputs": [],
   "source": [
    "# build my graph\n",
    "builder = StateGraph(State)\n",
    "# add nodes\n",
    "builder.add_node(\"update_foo\", update_foo)\n",
    "builder.add_node(\"update_bar\", update_bar)\n",
    "# add edges\n",
    "builder.add_edge(START, \"update_foo\")\n",
    "builder.add_edge(\"update_foo\", \"update_bar\")\n",
    "builder.add_edge(\"update_bar\", END)\n",
    "# build the graph\n",
    "graph = builder.compile()"
   ]
  },
  {
   "cell_type": "code",
   "execution_count": 18,
   "id": "14d21703",
   "metadata": {},
   "outputs": [
    {
     "data": {
      "image/png": "[encoded data removed]",
      "text/plain": [
       "<IPython.core.display.Image object>"
      ]
     },
     "metadata": {},
     "output_type": "display_data"
    }
   ],
   "source": [
    "# display the graph\n",
    "from IPython.display import Image, display\n",
    "\n",
    "display(Image(graph.get_graph().draw_mermaid_png()))"
   ]
  },
  {
   "cell_type": "code",
   "execution_count": 19,
   "id": "d52eb35b97e21780",
   "metadata": {
    "ExecuteTime": {
     "end_time": "2025-06-30T04:57:54.203455Z",
     "start_time": "2025-06-30T04:57:54.196603Z"
    }
   },
   "outputs": [
    {
     "data": {
      "text/html": [
       "<pre style=\"white-space:pre;overflow-x:auto;line-height:normal;font-family:Menlo,'DejaVu Sans Mono',consolas,'Courier New',monospace\"><span style=\"font-weight: bold\">{</span><span style=\"color: #008000; text-decoration-color: #008000\">'foo'</span>: <span style=\"color: #008080; text-decoration-color: #008080; font-weight: bold\">2</span>, <span style=\"color: #008000; text-decoration-color: #008000\">'bar'</span>: <span style=\"font-weight: bold\">[</span><span style=\"color: #008000; text-decoration-color: #008000\">'Hello'</span>, <span style=\"color: #008000; text-decoration-color: #008000\">'World!'</span><span style=\"font-weight: bold\">]}</span>\n",
       "</pre>\n"
      ],
      "text/plain": [
       "\u001b[1m{\u001b[0m\u001b[32m'foo'\u001b[0m: \u001b[1;36m2\u001b[0m, \u001b[32m'bar'\u001b[0m: \u001b[1m[\u001b[0m\u001b[32m'Hello'\u001b[0m, \u001b[32m'World!'\u001b[0m\u001b[1m]\u001b[0m\u001b[1m}\u001b[0m\n"
      ]
     },
     "metadata": {},
     "output_type": "display_data"
    }
   ],
   "source": [
    "# invoke the graph\n",
    "result = graph.invoke(state)\n",
    "console.print(result)"
   ]
  },
  {
   "cell_type": "code",
   "execution_count": null,
   "id": "14894db7",
   "metadata": {},
   "outputs": [],
   "source": []
  }
 ],
 "metadata": {
  "kernelspec": {
   "display_name": ".venv",
   "language": "python",
   "name": "python3"
  },
  "language_info": {
   "codemirror_mode": {
    "name": "ipython",
    "version": 3
   },
   "file_extension": ".py",
   "mimetype": "text/x-python",
   "name": "python",
   "nbconvert_exporter": "python",
   "pygments_lexer": "ipython3",
   "version": "3.12.7"
  }
 },
 "nbformat": 4,
 "nbformat_minor": 5
}
